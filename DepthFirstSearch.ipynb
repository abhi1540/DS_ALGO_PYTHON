{
 "cells": [
  {
   "cell_type": "code",
   "execution_count": null,
   "metadata": {},
   "outputs": [],
   "source": [
    "class Node(object):\n",
    "    \n",
    "    def __init__(self, name):\n",
    "        self.name = name\n",
    "        self.adjacencyList = []\n",
    "        self.visited = False\n",
    "        self.predecessor = None\n",
    "        \n",
    "        \n",
    "class DepthFirstSearch(object):\n",
    "    \n",
    "    def dfs(self, node):\n",
    "        node.visited = True\n",
    "        \n",
    "        print(\"%s \" % node.name)\n",
    "        \n",
    "        for i in node.adjacencyList:\n",
    "            if not i.visited:\n",
    "                self.dfs(i)\n",
    "                \n",
    "node1 = Node('A')\n",
    "node2 = Node('B')\n",
    "node3 = Node('C')\n",
    "node4 = Node('D')\n",
    "node5 = Node('E')\n",
    "\n",
    "\n",
    "node1.adjacencyList.append(node2)\n",
    "node1.adjacencyList.append(node3)\n",
    "node2.adjacencyList.append(node4)\n",
    "node2.adjacencyList.append(node5)                \n",
    "\n",
    "dfs = DepthFirstSearch()\n",
    "dfs.dfs(node1)  "
   ]
  }
 ],
 "metadata": {
  "kernelspec": {
   "display_name": "Python 3",
   "language": "python",
   "name": "python3"
  },
  "language_info": {
   "codemirror_mode": {
    "name": "ipython",
    "version": 3
   },
   "file_extension": ".py",
   "mimetype": "text/x-python",
   "name": "python",
   "nbconvert_exporter": "python",
   "pygments_lexer": "ipython3",
   "version": "3.6.4"
  }
 },
 "nbformat": 4,
 "nbformat_minor": 2
}
