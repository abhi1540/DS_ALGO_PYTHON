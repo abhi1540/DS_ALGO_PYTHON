{
 "cells": [
  {
   "cell_type": "code",
   "execution_count": 20,
   "metadata": {},
   "outputs": [],
   "source": [
    "class BinHeap:\n",
    "    def __init__(self):\n",
    "        self.heapList = [0]\n",
    "        self.currentSize = 0\n",
    "        \n",
    "        \n",
    "    def heapify_downtop(self, index):\n",
    "        \n",
    "        while index // 2 > 0:            \n",
    "            if self.heapList[index] < self.heapList[index // 2]:\n",
    "                self.heapList[index], self.heapList[index // 2] = self.heapList[index // 2], self.heapList[index]\n",
    "            index //= 2\n",
    "    \n",
    "    def heapify_topdown(self, index):\n",
    "        \n",
    "        while (index * 2) < self.currentSize:\n",
    "            if self.heapList[index] > self.heapList[2 * index]:\n",
    "                if self.heapList[2 * index] > self.heapList[2 * index + 1]:\n",
    "                    self.heapList[index], self.heapList[2 * index + 1] = self.heapList[2 * index + 1], self.heapList[index]\n",
    "                else:\n",
    "                    self.heapList[index], self.heapList[2 * index] = self.heapList[2 * index], self.heapList[index]\n",
    "            index *= 2\n",
    "            \n",
    "    def insert(self,k):\n",
    "        \n",
    "        self.heapList.append(k)\n",
    "        self.currentSize += 1\n",
    "        index = self.currentSize\n",
    "        self.heapify_downtop(index)\n",
    "        \n",
    "    def delete(self):\n",
    "        \n",
    "        index = self.currentSize\n",
    "        self.currentSize -= 1\n",
    "        self.heapList[1] = self.heapList[index]\n",
    "        self.heapList.pop()\n",
    "        self.heapify_topdown(1)\n",
    "        \n",
    "    def findmin(self):\n",
    "        return self.heapList[1]\n",
    "        \n",
    "        \n",
    "    \n",
    "b = BinHeap()\n",
    "\n",
    "# b.insert(1)\n",
    "# b.insert(2)\n",
    "# b.insert(10)\n",
    "# b.insert(20)    \n",
    "\n",
    "# b.delete()  \n",
    "# b.delete()\n",
    "# b.heapList"
   ]
  },
  {
   "cell_type": "code",
   "execution_count": 21,
   "metadata": {},
   "outputs": [],
   "source": [
    "b.insert(('VI', 1))\n",
    "b.insert(('VII', 3))\n",
    "b.insert(('VIII', 2))"
   ]
  },
  {
   "cell_type": "code",
   "execution_count": 22,
   "metadata": {},
   "outputs": [
    {
     "data": {
      "text/plain": [
       "('VI', 1)"
      ]
     },
     "execution_count": 22,
     "metadata": {},
     "output_type": "execute_result"
    }
   ],
   "source": [
    "b.findmin()"
   ]
  },
  {
   "cell_type": "code",
   "execution_count": 23,
   "metadata": {},
   "outputs": [],
   "source": [
    "b.delete()"
   ]
  },
  {
   "cell_type": "code",
   "execution_count": 24,
   "metadata": {},
   "outputs": [
    {
     "data": {
      "text/plain": [
       "[0, ('VIII', 2), ('VII', 3)]"
      ]
     },
     "execution_count": 24,
     "metadata": {},
     "output_type": "execute_result"
    }
   ],
   "source": [
    "b.heapList"
   ]
  },
  {
   "cell_type": "code",
   "execution_count": null,
   "metadata": {},
   "outputs": [],
   "source": []
  }
 ],
 "metadata": {
  "kernelspec": {
   "display_name": "Python 3",
   "language": "python",
   "name": "python3"
  },
  "language_info": {
   "codemirror_mode": {
    "name": "ipython",
    "version": 3
   },
   "file_extension": ".py",
   "mimetype": "text/x-python",
   "name": "python",
   "nbconvert_exporter": "python",
   "pygments_lexer": "ipython3",
   "version": "3.6.4"
  }
 },
 "nbformat": 4,
 "nbformat_minor": 2
}
