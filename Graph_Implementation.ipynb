{
 "cells": [
  {
   "cell_type": "code",
   "execution_count": 115,
   "metadata": {},
   "outputs": [],
   "source": [
    "class Graph:\n",
    "    \n",
    "    graph_dict={}\n",
    "    \n",
    "    def addEdge(self,node,neighbour):  \n",
    "        if node not in self.graph_dict:\n",
    "            self.graph_dict[node]=[neighbour]\n",
    "        else:\n",
    "            self.graph_dict[node].append(neighbour)\n",
    "            \n",
    "    def show_edges(self):\n",
    "        for node in self.graph_dict:\n",
    "            for neighbour in self.graph_dict[node]:\n",
    "                print(\"(\",node,\", \",neighbour,\")\")\n",
    "                \n",
    "    def find_path(self,start,end,path=[]):\n",
    "        path = path + [start]    \n",
    "        if start==end:\n",
    "            return path\n",
    "        for node in self.graph_dict[start]:\n",
    "            if node not in path:\n",
    "                newPath=self.find_path(node,end,path)\n",
    "                if newPath:\n",
    "                    return newPath\n",
    "                return None\n",
    "            \n",
    "    def BFS(self,s):\n",
    "        visited={}\n",
    "        for i in self.graph_dict:\n",
    "            visited[i]=False\n",
    "        queue=[]\n",
    "        queue.append(s)\n",
    "        visited[s]=True\n",
    "        while len(queue)!=0:\n",
    "            s=queue.pop(0)\n",
    "            for node in self.graph_dict[s]:\n",
    "                if visited[node]!=True:\n",
    "                    visited[node]=True\n",
    "                    queue.append(node)\n",
    "            print(s,end=\" \")\n",
    "            \n",
    "            \n",
    "    def DFS(self,s):\n",
    "        stack=[]\n",
    "        stack.append(s)\n",
    "        self.visited[s]=True\n",
    "        while len(stack)!=0:\n",
    "            s=stack.pop()\n",
    "            #print(s)\n",
    "            for node in self.graph_dict[s]:\n",
    "                if self.visited[node] != True:\n",
    "                    self.visited[node] = True\n",
    "                    stack.append(node)\n",
    "            print(s,end=\" \")\n",
    "        \n",
    "    def DFS1(self,s):\n",
    "        self.visited={}       \n",
    "        for i in self.graph_dict:\n",
    "            self.visited[i]=False\n",
    "        self.visited[s]=True\n",
    "        print(s)\n",
    "        for node in self.graph_dict[s]:\n",
    "            if self.visited[node] != True:\n",
    "                self.DFS(node)\n",
    "                \n",
    "\n",
    "                \n",
    "\n",
    "# g= Graph()\n",
    "# g.addEdge('1', '2')\n",
    "# g.addEdge('1', '3')\n",
    "# g.addEdge('2', '3')\n",
    "# g.addEdge('2', '1')\n",
    "# g.addEdge('3', '1')\n",
    "# g.addEdge('3', '2')\n",
    "# g.addEdge('3', '4')\n",
    "# g.addEdge('4', '3')\n",
    "# g.show_edges()"
   ]
  },
  {
   "cell_type": "code",
   "execution_count": 3,
   "metadata": {},
   "outputs": [
    {
     "name": "stdout",
     "output_type": "stream",
     "text": [
      "['4', '3', '1']\n"
     ]
    }
   ],
   "source": [
    "print(g.find_path('4', '1'))"
   ]
  },
  {
   "cell_type": "code",
   "execution_count": 5,
   "metadata": {},
   "outputs": [
    {
     "name": "stdout",
     "output_type": "stream",
     "text": [
      "1 2 3 4 "
     ]
    }
   ],
   "source": [
    "g.BFS('1')"
   ]
  },
  {
   "cell_type": "code",
   "execution_count": 7,
   "metadata": {},
   "outputs": [
    {
     "name": "stdout",
     "output_type": "stream",
     "text": [
      "1 2 3 4 "
     ]
    }
   ],
   "source": [
    "g.DFS('1')"
   ]
  },
  {
   "cell_type": "code",
   "execution_count": 116,
   "metadata": {},
   "outputs": [
    {
     "name": "stdout",
     "output_type": "stream",
     "text": [
      "( 1 ,  2 )\n",
      "( 1 ,  3 )\n",
      "( 2 ,  3 )\n",
      "( 2 ,  4 )\n",
      "( 3 ,  1 )\n",
      "( 3 ,  2 )\n",
      "( 4 ,  2 )\n"
     ]
    }
   ],
   "source": [
    "g= Graph()\n",
    "g.addEdge('1', '2')\n",
    "g.addEdge('1', '3')\n",
    "g.addEdge('2', '3')\n",
    "g.addEdge('2', '4')\n",
    "g.addEdge('3', '1')\n",
    "g.addEdge('3', '2')\n",
    "g.addEdge('4', '2')\n",
    "g.show_edges()"
   ]
  },
  {
   "cell_type": "code",
   "execution_count": 118,
   "metadata": {},
   "outputs": [
    {
     "name": "stdout",
     "output_type": "stream",
     "text": [
      "2\n",
      "3 1 4 "
     ]
    }
   ],
   "source": [
    "g.DFS1('2')"
   ]
  },
  {
   "cell_type": "code",
   "execution_count": null,
   "metadata": {},
   "outputs": [],
   "source": []
  }
 ],
 "metadata": {
  "kernelspec": {
   "display_name": "Python 3",
   "language": "python",
   "name": "python3"
  },
  "language_info": {
   "codemirror_mode": {
    "name": "ipython",
    "version": 3
   },
   "file_extension": ".py",
   "mimetype": "text/x-python",
   "name": "python",
   "nbconvert_exporter": "python",
   "pygments_lexer": "ipython3",
   "version": "3.6.4"
  }
 },
 "nbformat": 4,
 "nbformat_minor": 2
}
