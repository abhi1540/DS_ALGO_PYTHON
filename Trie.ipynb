{
 "cells": [
  {
   "cell_type": "code",
   "execution_count": 26,
   "metadata": {},
   "outputs": [
    {
     "name": "stdout",
     "output_type": "stream",
     "text": [
      "{'h': {'endofword': 'N', 'e': {'endofword': 'N', 'l': {'endofword': 'N', 'l': {'endofword': 'N', 'o': {'endofword': 'Y'}}}, 'y': {'endofword': 'Y'}}}}\n",
      "i am found\n"
     ]
    },
    {
     "data": {
      "text/plain": [
       "True"
      ]
     },
     "execution_count": 26,
     "metadata": {},
     "output_type": "execute_result"
    }
   ],
   "source": [
    "class Trie():\n",
    "\n",
    "    def __init__(self):\n",
    "        self._endofword = \"N\"\n",
    "        self.trie = dict()\n",
    "\n",
    "    def insert(self,word):\n",
    "        \n",
    "        cur = self.trie\n",
    "        for i in word:\n",
    "            if i not in cur:\n",
    "                cur[i] = {\"endofword\":self._endofword}\n",
    "            cur = cur[i]\n",
    "            \n",
    "        cur[\"endofword\"] = \"Y\"\n",
    "        \n",
    "    \n",
    "    def search(self,word):\n",
    "        \n",
    "        cur = self.trie\n",
    "        for i in word:\n",
    "            if i not in cur:\n",
    "                return False\n",
    "            cur = cur[i]\n",
    "            \n",
    "        if \"endofword\" in cur and cur[\"endofword\"] is \"Y\":\n",
    "            print(\"i am found\")\n",
    "            return True\n",
    "        else:\n",
    "            return False\n",
    "            \n",
    "    \n",
    "    def printtrie(self):\n",
    "        print(self.trie)\n",
    "            \n",
    "\n",
    "    def delete(self,word):\n",
    "        \n",
    "        cur = self.trie\n",
    "        \n",
    "        for i in word:\n",
    "            if i in cur and cur[i][\"endofword\"] != \"Y\":\n",
    "                cur = cur[i]\n",
    "            elif i in cur and cur[i][\"endofword\"] == \"Y\":\n",
    "                if len(cur[i]) <= 1: \n",
    "                    del cur[i]\n",
    "        return cur                \n",
    "        \n",
    "               \n",
    "tr = Trie()\n",
    "tr.insert(\"hello\")\n",
    "tr.insert(\"hey\")\n",
    "tr.insert(\"hi\")\n",
    "tr.search(\"hel\")\n",
    "#tr.printtrie()\n",
    "tr.delete(\"hi\")\n",
    "tr.printtrie()\n",
    "tr.search(\"hello\")"
   ]
  },
  {
   "cell_type": "code",
   "execution_count": null,
   "metadata": {},
   "outputs": [],
   "source": []
  }
 ],
 "metadata": {
  "kernelspec": {
   "display_name": "Python 3",
   "language": "python",
   "name": "python3"
  },
  "language_info": {
   "codemirror_mode": {
    "name": "ipython",
    "version": 3
   },
   "file_extension": ".py",
   "mimetype": "text/x-python",
   "name": "python",
   "nbconvert_exporter": "python",
   "pygments_lexer": "ipython3",
   "version": "3.6.4"
  }
 },
 "nbformat": 4,
 "nbformat_minor": 2
}
