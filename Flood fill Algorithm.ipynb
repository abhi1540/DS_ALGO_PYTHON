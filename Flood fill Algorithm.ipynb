{
 "cells": [
  {
   "cell_type": "code",
   "execution_count": null,
   "metadata": {},
   "outputs": [],
   "source": [
    "# Python3 program to implement  \n",
    "# flood fill algorithm \n",
    "  \n",
    "# Dimentions of paint screen  \n",
    "M = 8\n",
    "N = 8\n",
    "  \n",
    "# A recursive function to replace  \n",
    "# previous color 'prevC' at '(x, y)'  \n",
    "# and all surrounding pixels of (x, y)  \n",
    "# with new color 'newC' and  \n",
    "def floodFillUtil(screen, x, y, prevC, newC): \n",
    "      \n",
    "    # Base cases \n",
    "    if (x < 0 or x >= M or y < 0 or \n",
    "        y >= N or screen[x][y] != prevC or \n",
    "        screen[x][y] == newC): \n",
    "        return\n",
    "  \n",
    "    # Replace the color at (x, y) \n",
    "    screen[x][y] = newC \n",
    "  \n",
    "    # Recur for north, east, south and west \n",
    "    floodFillUtil(screen, x + 1, y, prevC, newC) \n",
    "    floodFillUtil(screen, x - 1, y, prevC, newC) \n",
    "    floodFillUtil(screen, x, y + 1, prevC, newC) \n",
    "    floodFillUtil(screen, x, y - 1, prevC, newC) \n",
    "  \n",
    "# It mainly finds the previous color on (x, y) and  \n",
    "# calls floodFillUtil()  \n",
    "def floodFill(screen, x, y, newC): \n",
    "    prevC = screen[x][y] \n",
    "    floodFillUtil(screen, x, y, prevC, newC) \n",
    "  \n",
    "# Driver Code \n",
    "screen = [[1, 1, 1, 1, 1, 1, 1, 1],  \n",
    "          [1, 1, 1, 1, 1, 1, 0, 0],  \n",
    "          [1, 0, 0, 1, 1, 0, 1, 1],  \n",
    "          [1, 2, 2, 2, 2, 0, 1, 0],  \n",
    "          [1, 1, 1, 2, 2, 0, 1, 0],  \n",
    "          [1, 1, 1, 2, 2, 2, 2, 0],  \n",
    "          [1, 1, 1, 1, 1, 2, 1, 1],  \n",
    "          [1, 1, 1, 1, 1, 2, 2, 1]] \n",
    "  \n",
    "x = 4\n",
    "y = 4\n",
    "newC = 3\n",
    "floodFill(screen, x, y, newC) \n",
    "  \n",
    "print (\"Updated screen after call to floodFill:\") \n",
    "for i in range(M): \n",
    "    for j in range(N): \n",
    "        print(screen[i][j], end = ' ') \n",
    "    print() \n",
    "  \n",
    "# This code is contributed by Ashutosh450 "
   ]
  }
 ],
 "metadata": {
  "kernelspec": {
   "display_name": "Python 3",
   "language": "python",
   "name": "python3"
  },
  "language_info": {
   "codemirror_mode": {
    "name": "ipython",
    "version": 3
   },
   "file_extension": ".py",
   "mimetype": "text/x-python",
   "name": "python",
   "nbconvert_exporter": "python",
   "pygments_lexer": "ipython3",
   "version": "3.6.4"
  }
 },
 "nbformat": 4,
 "nbformat_minor": 2
}
